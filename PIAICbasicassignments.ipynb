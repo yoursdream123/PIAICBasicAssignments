{
  "nbformat": 4,
  "nbformat_minor": 0,
  "metadata": {
    "colab": {
      "provenance": [],
      "gpuType": "T4",
      "authorship_tag": "ABX9TyMLWQaDieoSohSWEqK4onjX",
      "include_colab_link": true
    },
    "kernelspec": {
      "name": "python3",
      "display_name": "Python 3"
    },
    "language_info": {
      "name": "python"
    },
    "accelerator": "GPU"
  },
  "cells": [
    {
      "cell_type": "markdown",
      "metadata": {
        "id": "view-in-github",
        "colab_type": "text"
      },
      "source": [
        "<a href=\"https://colab.research.google.com/github/yoursdream123/PIAICBasicAssignments/blob/main/PIAICbasicassignments.ipynb\" target=\"_parent\"><img src=\"https://colab.research.google.com/assets/colab-badge.svg\" alt=\"Open In Colab\"/></a>"
      ]
    },
    {
      "cell_type": "markdown",
      "source": [
        "## 1. Joke Bot\n",
        "Write a simple joke bot. The bot starts by asking the user what they want. However, your program will only respond to one response: Joke.\n",
        "\n",
        "If the user enters Joke then we will print out a single joke. Each time the joke is always the same:\n",
        "\n",
        "Here is a joke for you! Panaversity GPT - Sophia is heading out to the grocery store. A programmer tells her: get a liter of milk, and if they have eggs, get 12. Sophia returns with 13 liters of milk. The programmer asks why and Sophia replies: 'because they had eggs'\n",
        "\n",
        "If the user enters anything else we print out:\n",
        "\n",
        "Sorry I only tell jokes\n",
        "\n",
        "You should use the three constants:\n",
        "\n",
        "PROMPT JOKE SORRY\n",
        "\n",
        "which contain the strings for the prompt asked to the user, the joke to print out if the user enters Joke and the sorry message if the user enters anything else."
      ],
      "metadata": {
        "id": "dAdYbo_7wbzB"
      }
    },
    {
      "cell_type": "code",
      "source": [
        "## Creating Constants\n",
        "PROMPT: str = \"What would you like to do?\"\n",
        "JOKE: str = \"WHy did the scarecrow win an award? Because he was outstanding in his field!\"\n",
        "\n",
        "#Defining a function\n",
        "def joke_bot():\n",
        "  #1. Get user Input\n",
        "  user_input = input(PROMPT)\n",
        "  print(user_input)\n",
        "\n",
        "  #2. if else statements\n",
        "  # Case ?? Joke joke\n",
        "  if user_input.lower() == \"joke\":\n",
        "    print(JOKE)\n",
        "  else:\n",
        "    print(\"Sorry, I only tell jokes\")\n",
        "\n",
        "joke_bot()"
      ],
      "metadata": {
        "colab": {
          "base_uri": "https://localhost:8080/"
        },
        "id": "fMi3PB2v0pi8",
        "outputId": "ee60ee52-b0e9-4947-911f-ed1f83adb1f9"
      },
      "execution_count": null,
      "outputs": [
        {
          "output_type": "stream",
          "name": "stdout",
          "text": [
            "What would you like to do?JOKE\n",
            "JOKE\n",
            "WHy did the scarecrow win an award? Because he was outstanding in his field!\n"
          ]
        }
      ]
    },
    {
      "cell_type": "markdown",
      "source": [
        "## 2. Double it\n",
        "Write a program that asks a user to enter a number. Your program will then double that number and print out the result. It will repeat that process until the value is 100 or greater.\n",
        "\n",
        "For example if the user enters the number 2 you would then print:\n",
        "\n",
        "4 8 16 32 64 128\n",
        "\n",
        "Note that:\n",
        "\n",
        "2 doubled is 4\n",
        "\n",
        "4 doubled is 8\n",
        "\n",
        "8 doubled is 16\n",
        "\n",
        "and so on.\n",
        "\n",
        "We stop at 128 because that value is greater than 100."
      ],
      "metadata": {
        "id": "f0u_mJ7a08Rt"
      }
    },
    {
      "cell_type": "code",
      "source": [
        "def double_it():\n",
        "  #1. Get user input and type cast\n",
        "  user_input = int(input(\"Enter a Number: \"))\n",
        "\n",
        "  #2. Loop: while & for\n",
        "  while user_input <= 100:\n",
        "    user_input *= 2\n",
        "    print(user_input, end=\" \")\n",
        "\n",
        "double_it()"
      ],
      "metadata": {
        "colab": {
          "base_uri": "https://localhost:8080/"
        },
        "id": "rXaF0cdI1ccG",
        "outputId": "091e321d-24aa-4a07-def1-bf71a88d6135"
      },
      "execution_count": null,
      "outputs": [
        {
          "output_type": "stream",
          "name": "stdout",
          "text": [
            "Enter a Number: 23\n",
            "46 92 184 "
          ]
        }
      ]
    },
    {
      "cell_type": "markdown",
      "source": [
        "## 3. Liftoff\n",
        "Write a program that prints out the calls for a spaceship that is about to launch. Countdown from 10 to 1 and then output Liftoff!\n",
        "\n",
        "Here's a sample run of the program:\n",
        "\n",
        "10 9 8 7 6 5 4 3 2 1 Liftoff!\n",
        "\n",
        "There are many ways to solve this problem. One approach is to use a for loop, and to use the for loop variable i. Recall that i will keep track of how many times the for loop has completed executing its body. As an example this code:\n",
        "\n",
        "for i in range(10): print(i)\n",
        "\n",
        "Will print out the values 0, 1, 2, 3, 4, 5, 6, 7, 8, 9. The values printed in liftoff are 10 minus the number of times the for loop has completed."
      ],
      "metadata": {
        "id": "VZc_61eI2sQJ"
      }
    },
    {
      "cell_type": "code",
      "source": [
        "#Creating class\n",
        "def count_down():\n",
        "#using loop for printing numbers\n",
        "  for i in range(10, 0, -1):\n",
        "    print(i, end=\" \")\n",
        "  print('Liftoff!')\n",
        "count_down()"
      ],
      "metadata": {
        "colab": {
          "base_uri": "https://localhost:8080/"
        },
        "id": "N3Xp7ky93Jw7",
        "outputId": "00d6ddba-0ee8-42cd-9add-28592e9c259e"
      },
      "execution_count": null,
      "outputs": [
        {
          "output_type": "stream",
          "name": "stdout",
          "text": [
            "10 9 8 7 6 5 4 3 2 1 Liftoff!\n"
          ]
        }
      ]
    },
    {
      "cell_type": "markdown",
      "source": [
        "## 4. Guess my number\n",
        "Guess My Number\n",
        "\n",
        "I am thinking of a number between 0 and 99... Enter a guess: 50 Your guess is too high\n",
        "\n",
        "Enter a new number: 25 Your guess is too low\n",
        "\n",
        "Enter a new number: 40 Your guess is too low\n",
        "\n",
        "Enter a new number: 45 Your guess is too low\n",
        "\n",
        "Enter a new number: 48 Congrats! The number was: 48"
      ],
      "metadata": {
        "id": "1oo3GeZf1iCI"
      }
    },
    {
      "cell_type": "code",
      "source": [
        "from random import randint\n",
        "\n",
        "random_generate_num: int = randint(1, 5)\n",
        "\n",
        "allowed_attempts: int = 5\n",
        "\n",
        "user_attempt: int = 0\n",
        "\n",
        "while True:\n",
        "  print(f'Attempts left: {allowed_attempts - user_attempt}')\n",
        "\n",
        "  if(user_attempt == allowed_attempts):\n",
        "    print('Game Over')\n",
        "    break\n",
        "\n",
        "  user_input: int = int(input('Enter a Number between 0 - 100: '))\n",
        "  user_attempt += 1\n",
        "\n",
        "  if user_input > random_generate_num:\n",
        "    print('Your guess is too high')\n",
        "  elif user_input < random_generate_num:\n",
        "    print('Your guess is too low')\n",
        "  else:\n",
        "    print('Invalid Input')"
      ],
      "metadata": {
        "colab": {
          "base_uri": "https://localhost:8080/"
        },
        "id": "8N1ImcoW1uSe",
        "outputId": "13a71e08-fcf8-46a8-8d86-d7dc82e609ba"
      },
      "execution_count": null,
      "outputs": [
        {
          "output_type": "stream",
          "name": "stdout",
          "text": [
            "Attempts left: 5\n",
            "Enter a Number between 0 - 100: 1\n",
            "Your guess is too low\n",
            "Attempts left: 4\n",
            "Enter a Number between 0 - 100: 2\n",
            "Your guess is too low\n",
            "Attempts left: 3\n",
            "Enter a Number between 0 - 100: 3\n",
            "Your guess is too low\n",
            "Attempts left: 2\n",
            "Enter a Number between 0 - 100: 4\n",
            "Your guess is too low\n",
            "Attempts left: 1\n",
            "Enter a Number between 0 - 100: 5\n",
            "Congrats! The number was: 5\n"
          ]
        }
      ]
    },
    {
      "cell_type": "markdown",
      "source": [
        "## 5. Random Guess\n",
        "Print 10 random numbers in the range 1 to 100.\n",
        "\n",
        "Here is an example run:\n",
        "\n",
        "45 79 61 47 52 10 16 83 19 12\n",
        "\n",
        "Each time you run your program you should get different numbers\n",
        "\n",
        "81 76 70 1 27 63 96 100 32 92\n",
        "\n",
        "Recall that the python random library has a function randint which returns an integer in the range set by the parameters (inclusive). For example this call would produce a random integer between 1 and 6, which could include 1 and could include 6:\n",
        "\n",
        "value = random.randint(1, 6)"
      ],
      "metadata": {
        "id": "mu-uzbKrEuuk"
      }
    },
    {
      "cell_type": "code",
      "source": [
        "MIN_NUMBER: int = 1\n",
        "MAX_NUMBER: int = 101\n",
        "N_RANDOM_NUMBERS: int = 10\n",
        "\n",
        "import numpy as np\n",
        "\n",
        "number_list = np.random.randint(MIN_NUMBER, MAX_NUMBER, N_RANDOM_NUMBERS)\n",
        "\n",
        "print(*number_list)"
      ],
      "metadata": {
        "colab": {
          "base_uri": "https://localhost:8080/"
        },
        "id": "bk2rjVxPEzhm",
        "outputId": "45a40ad6-2476-49e6-cc6c-d049e42d471a"
      },
      "execution_count": null,
      "outputs": [
        {
          "output_type": "stream",
          "name": "stdout",
          "text": [
            "92 33 99 26 61 39 74 8 79 11\n"
          ]
        }
      ]
    }
  ]
}